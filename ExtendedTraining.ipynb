{
 "cells": [
  {
   "cell_type": "markdown",
   "metadata": {},
   "source": [
    "### Deep Neural Networks"
   ]
  },
  {
   "cell_type": "markdown",
   "metadata": {},
   "source": [
    "## CaliFornia housing Prices"
   ]
  },
  {
   "cell_type": "code",
   "execution_count": 2,
   "metadata": {},
   "outputs": [],
   "source": [
    "import tensorflow as tf\n",
    "from tensorflow import keras\n",
    "from tensorflow.keras.layers import Dense\n",
    "import matplotlib as mpl\n",
    "import matplotlib.pyplot as plt\n",
    "import pandas as pd\n",
    "from tensorflow.keras import optimizers"
   ]
  },
  {
   "cell_type": "markdown",
   "metadata": {},
   "source": [
    "#### REGRESSION MLP"
   ]
  },
  {
   "cell_type": "code",
   "execution_count": 19,
   "metadata": {},
   "outputs": [],
   "source": [
    "from sklearn.datasets import fetch_california_housing\n",
    "from sklearn.model_selection import train_test_split\n",
    "from sklearn.preprocessing import StandardScaler"
   ]
  },
  {
   "cell_type": "code",
   "execution_count": 20,
   "metadata": {},
   "outputs": [],
   "source": [
    "housing=fetch_california_housing()"
   ]
  },
  {
   "cell_type": "code",
   "execution_count": 21,
   "metadata": {},
   "outputs": [],
   "source": [
    "X_train_full,X_test,y_train_full,y_test=train_test_split(housing['data'],housing.target)"
   ]
  },
  {
   "cell_type": "code",
   "execution_count": 22,
   "metadata": {},
   "outputs": [],
   "source": [
    "X_train,X_valid,y_train,y_valid=train_test_split(X_train_full,y_train_full)"
   ]
  },
  {
   "cell_type": "code",
   "execution_count": 23,
   "metadata": {},
   "outputs": [],
   "source": [
    "scaler = StandardScaler()\n",
    "X_train = scaler.fit_transform(X_train)\n",
    "X_valid = scaler.transform(X_valid)\n",
    "X_test = scaler.transform(X_test)"
   ]
  },
  {
   "cell_type": "code",
   "execution_count": 24,
   "metadata": {},
   "outputs": [],
   "source": [
    "model=keras.Sequential([\n",
    "     keras.layers.Dense(30,activation='relu',input_shape=X_train.shape[1:]),\n",
    "    keras.layers.Dense(20),\n",
    "    keras.layers.Dense(1)\n",
    "])\n",
    "sgd=optimizers.SGD(learning_rate=0.015)\n",
    "model.compile(loss='mean_squared_error',optimizers=sgd) "
   ]
  },
  {
   "cell_type": "code",
   "execution_count": 25,
   "metadata": {},
   "outputs": [
    {
     "name": "stdout",
     "output_type": "stream",
     "text": [
      "Train on 11610 samples, validate on 3870 samples\n",
      "Epoch 1/10\n",
      "11610/11610 [==============================] - 1s 59us/sample - loss: 1.6534 - val_loss: 0.5667\n",
      "Epoch 2/10\n",
      "11610/11610 [==============================] - 0s 28us/sample - loss: 0.5619 - val_loss: 0.4548\n",
      "Epoch 3/10\n",
      "11610/11610 [==============================] - 0s 21us/sample - loss: 0.4435 - val_loss: 0.4390\n",
      "Epoch 4/10\n",
      "11610/11610 [==============================] - 0s 24us/sample - loss: 0.3952 - val_loss: 0.4402\n",
      "Epoch 5/10\n",
      "11610/11610 [==============================] - 0s 17us/sample - loss: 0.3864 - val_loss: 0.4078\n",
      "Epoch 6/10\n",
      "11610/11610 [==============================] - 0s 19us/sample - loss: 0.3662 - val_loss: 0.4224\n",
      "Epoch 7/10\n",
      "11610/11610 [==============================] - 0s 19us/sample - loss: 0.3600 - val_loss: 0.3897\n",
      "Epoch 8/10\n",
      "11610/11610 [==============================] - 0s 19us/sample - loss: 0.3556 - val_loss: 0.3891\n",
      "Epoch 9/10\n",
      "11610/11610 [==============================] - 0s 19us/sample - loss: 0.3507 - val_loss: 0.3845\n",
      "Epoch 10/10\n",
      "11610/11610 [==============================] - 0s 18us/sample - loss: 0.3488 - val_loss: 0.3835\n"
     ]
    }
   ],
   "source": [
    "history=model.fit(X_train,y_train,validation_data=(X_valid,y_valid),epochs=10,batch_size=64)"
   ]
  },
  {
   "cell_type": "code",
   "execution_count": 26,
   "metadata": {},
   "outputs": [
    {
     "name": "stdout",
     "output_type": "stream",
     "text": [
      "5160/1 - 0s - loss: 0.3307\n"
     ]
    },
    {
     "data": {
      "text/plain": [
       "0.46972967529481696"
      ]
     },
     "execution_count": 26,
     "metadata": {},
     "output_type": "execute_result"
    }
   ],
   "source": [
    "model.evaluate(X_test,y_test,verbose=2)"
   ]
  },
  {
   "cell_type": "code",
   "execution_count": 27,
   "metadata": {
    "scrolled": true
   },
   "outputs": [
    {
     "data": {
      "text/plain": [
       "array([[5.0181804],\n",
       "       [1.4991875],\n",
       "       [2.3961825]], dtype=float32)"
      ]
     },
     "execution_count": 27,
     "metadata": {},
     "output_type": "execute_result"
    }
   ],
   "source": [
    "model.predict(X_test[0:3,])"
   ]
  },
  {
   "cell_type": "code",
   "execution_count": 28,
   "metadata": {},
   "outputs": [
    {
     "data": {
      "text/plain": [
       "array([5.00001, 1.067  , 2.314  ])"
      ]
     },
     "execution_count": 28,
     "metadata": {},
     "output_type": "execute_result"
    }
   ],
   "source": [
    "y_test[0:3]"
   ]
  },
  {
   "cell_type": "code",
   "execution_count": 29,
   "metadata": {
    "scrolled": true
   },
   "outputs": [
    {
     "data": {
      "image/png": "[encoded data removed]",
      "text/plain": [
       "<Figure size 1008x576 with 1 Axes>"
      ]
     },
     "metadata": {
      "needs_background": "light"
     },
     "output_type": "display_data"
    }
   ],
   "source": [
    "pd.DataFrame(history.history).plot(figsize=(14,8))\n",
    "plt.grid(True)"
   ]
  },
  {
   "cell_type": "markdown",
   "metadata": {},
   "source": [
    "#### Non-sequential NN Wide and Deep Learning"
   ]
  },
  {
   "cell_type": "code",
   "execution_count": 30,
   "metadata": {},
   "outputs": [],
   "source": [
    "np.random.seed(42)\n",
    "tf.random.set_seed(42)"
   ]
  },
  {
   "cell_type": "code",
   "execution_count": 31,
   "metadata": {},
   "outputs": [],
   "source": [
    "input_=keras.layers.Input(shape=X_train.shape[1:]) #or shape=[featuresnumbers]\n",
    "hidden1=keras.layers.Dense(30,activation='relu')(input_)\n",
    "hidden2=keras.layers.Dense(30,activation='relu')(hidden1)\n",
    "concat=keras.layers.Concatenate()([input_,hidden2])\n",
    "output=keras.layers.Dense(1)(concat)\n",
    "model=keras.Model(inputs=[input_],outputs=[output])"
   ]
  },
  {
   "cell_type": "code",
   "execution_count": 32,
   "metadata": {},
   "outputs": [
    {
     "name": "stdout",
     "output_type": "stream",
     "text": [
      "Train on 11610 samples, validate on 3870 samples\n",
      "Epoch 1/20\n",
      "11610/11610 [==============================] - 1s 60us/sample - loss: 1.2759 - val_loss: 0.7136\n",
      "Epoch 2/20\n",
      "11610/11610 [==============================] - 0s 38us/sample - loss: 0.6751 - val_loss: 0.6532\n",
      "Epoch 3/20\n",
      "11610/11610 [==============================] - 0s 37us/sample - loss: 0.5979 - val_loss: 0.6114\n",
      "Epoch 4/20\n",
      "11610/11610 [==============================] - 0s 33us/sample - loss: 0.5693 - val_loss: 0.5989\n",
      "Epoch 5/20\n",
      "11610/11610 [==============================] - 0s 37us/sample - loss: 0.5448 - val_loss: 0.5701\n",
      "Epoch 6/20\n",
      "11610/11610 [==============================] - 0s 35us/sample - loss: 0.5273 - val_loss: 0.5637\n",
      "Epoch 7/20\n",
      "11610/11610 [==============================] - 0s 33us/sample - loss: 0.5112 - val_loss: 0.5413\n",
      "Epoch 8/20\n",
      "11610/11610 [==============================] - 0s 34us/sample - loss: 0.4976 - val_loss: 0.5328\n",
      "Epoch 9/20\n",
      "11610/11610 [==============================] - 0s 36us/sample - loss: 0.4858 - val_loss: 0.5190\n",
      "Epoch 10/20\n",
      "11610/11610 [==============================] - 0s 37us/sample - loss: 0.4759 - val_loss: 0.5074\n",
      "Epoch 11/20\n",
      "11610/11610 [==============================] - 1s 50us/sample - loss: 0.4661 - val_loss: 0.4967\n",
      "Epoch 12/20\n",
      "11610/11610 [==============================] - 0s 42us/sample - loss: 0.4577 - val_loss: 0.4898\n",
      "Epoch 13/20\n",
      "11610/11610 [==============================] - 0s 41us/sample - loss: 0.4506 - val_loss: 0.4842\n",
      "Epoch 14/20\n",
      "11610/11610 [==============================] - 0s 33us/sample - loss: 0.4432 - val_loss: 0.4721\n",
      "Epoch 15/20\n",
      "11610/11610 [==============================] - 0s 34us/sample - loss: 0.4381 - val_loss: 0.4679\n",
      "Epoch 16/20\n",
      "11610/11610 [==============================] - 1s 58us/sample - loss: 0.4323 - val_loss: 0.4651\n",
      "Epoch 17/20\n",
      "11610/11610 [==============================] - 0s 42us/sample - loss: 0.4272 - val_loss: 0.4609\n",
      "Epoch 18/20\n",
      "11610/11610 [==============================] - 0s 40us/sample - loss: 0.4228 - val_loss: 0.4555\n",
      "Epoch 19/20\n",
      "11610/11610 [==============================] - 1s 45us/sample - loss: 0.4184 - val_loss: 0.4525\n",
      "Epoch 20/20\n",
      "11610/11610 [==============================] - 1s 46us/sample - loss: 0.4155 - val_loss: 0.4469\n"
     ]
    }
   ],
   "source": [
    "model.compile(loss=\"mse\", optimizer=keras.optimizers.SGD(lr=1e-3))\n",
    "history = model.fit(X_train, y_train, epochs=20,\n",
    "                    validation_data=(X_valid, y_valid))\n",
    "\n"
   ]
  },
  {
   "cell_type": "code",
   "execution_count": 33,
   "metadata": {},
   "outputs": [
    {
     "name": "stdout",
     "output_type": "stream",
     "text": [
      "5160/1 - 0s - loss: 0.3322\n"
     ]
    }
   ],
   "source": [
    "mse_test = model.evaluate(X_test, y_test,verbose=2)"
   ]
  },
  {
   "cell_type": "markdown",
   "metadata": {},
   "source": [
    "what if u want to use subset of fefeatures  for wide and a subset of features for deep?"
   ]
  },
  {
   "cell_type": "code",
   "execution_count": 34,
   "metadata": {},
   "outputs": [],
   "source": [
    "input_a=keras.layers.Input(shape=[4],name='wide')\n",
    "input_b=keras.layers.Input(shape=[6],name='deep')\n",
    "hidden1=keras.layers.Dense(30,activation='relu')(input_b)\n",
    "hidden2=keras.layers.Dense(20,activation='relu')(hidden1)\n",
    "concat=keras.layers.Concatenate()([input_a,hidden2]) \n",
    "output=keras.layers.Dense(1)(concat)\n",
    "model=keras.Model(inputs=[input_a,input_b],outputs=[output])"
   ]
  },
  {
   "cell_type": "code",
   "execution_count": 35,
   "metadata": {},
   "outputs": [
    {
     "name": "stdout",
     "output_type": "stream",
     "text": [
      "Model: \"model_1\"\n",
      "__________________________________________________________________________________________________\n",
      "Layer (type)                    Output Shape         Param #     Connected to                     \n",
      "==================================================================================================\n",
      "deep (InputLayer)               [(None, 6)]          0                                            \n",
      "__________________________________________________________________________________________________\n",
      "dense_9 (Dense)                 (None, 30)           210         deep[0][0]                       \n",
      "__________________________________________________________________________________________________\n",
      "wide (InputLayer)               [(None, 4)]          0                                            \n",
      "__________________________________________________________________________________________________\n",
      "dense_10 (Dense)                (None, 20)           620         dense_9[0][0]                    \n",
      "__________________________________________________________________________________________________\n",
      "concatenate_1 (Concatenate)     (None, 24)           0           wide[0][0]                       \n",
      "                                                                 dense_10[0][0]                   \n",
      "__________________________________________________________________________________________________\n",
      "dense_11 (Dense)                (None, 1)            25          concatenate_1[0][0]              \n",
      "==================================================================================================\n",
      "Total params: 855\n",
      "Trainable params: 855\n",
      "Non-trainable params: 0\n",
      "__________________________________________________________________________________________________\n"
     ]
    }
   ],
   "source": [
    "model.summary()"
   ]
  },
  {
   "cell_type": "code",
   "execution_count": 36,
   "metadata": {},
   "outputs": [],
   "source": [
    "model.compile(loss='mse',optimizer=optimizers.SGD(learning_rate=0.01))"
   ]
  },
  {
   "cell_type": "code",
   "execution_count": 37,
   "metadata": {},
   "outputs": [],
   "source": [
    "X_train_A,X_train_B =X_train[:,:4],X_train[:,2:]\n",
    "X_valid_A,X_valid_B =X_valid[:,:4],X_valid[:,2:]\n",
    "X_test_A, X_test_B = X_test[:, :4],X_test[:,2:]"
   ]
  },
  {
   "cell_type": "code",
   "execution_count": 38,
   "metadata": {},
   "outputs": [
    {
     "name": "stdout",
     "output_type": "stream",
     "text": [
      "Train on 11610 samples, validate on 3870 samples\n",
      "Epoch 1/10\n",
      "11610/11610 [==============================] - 1s 75us/sample - loss: 0.7606 - val_loss: 0.5238\n",
      "Epoch 2/10\n",
      "11610/11610 [==============================] - 0s 39us/sample - loss: 0.4824 - val_loss: 0.4949\n",
      "Epoch 3/10\n",
      "11610/11610 [==============================] - 0s 42us/sample - loss: 0.4366 - val_loss: 0.4632\n",
      "Epoch 4/10\n",
      "11610/11610 [==============================] - 0s 41us/sample - loss: 0.4131 - val_loss: 0.4345\n",
      "Epoch 5/10\n",
      "11610/11610 [==============================] - 0s 38us/sample - loss: 0.4007 - val_loss: 0.4299\n",
      "Epoch 6/10\n",
      "11610/11610 [==============================] - 0s 37us/sample - loss: 0.3911 - val_loss: 0.4192\n",
      "Epoch 7/10\n",
      "11610/11610 [==============================] - 1s 44us/sample - loss: 0.3827 - val_loss: 0.4098\n",
      "Epoch 8/10\n",
      "11610/11610 [==============================] - 0s 40us/sample - loss: 0.3791 - val_loss: 0.4045\n",
      "Epoch 9/10\n",
      "11610/11610 [==============================] - 0s 38us/sample - loss: 0.3703 - val_loss: 0.4038\n",
      "Epoch 10/10\n",
      "11610/11610 [==============================] - 0s 41us/sample - loss: 0.3641 - val_loss: 0.4050\n"
     ]
    }
   ],
   "source": [
    "history = model.fit((X_train_A, X_train_B), y_train, \n",
    "                    epochs=10,\n",
    "                    validation_data=((X_valid_A, X_valid_B), y_valid))\n"
   ]
  },
  {
   "cell_type": "code",
   "execution_count": 39,
   "metadata": {},
   "outputs": [
    {
     "name": "stdout",
     "output_type": "stream",
     "text": [
      "5160/1 - 0s - loss: 0.2640\n"
     ]
    },
    {
     "data": {
      "text/plain": [
       "0.39147980439570523"
      ]
     },
     "execution_count": 39,
     "metadata": {},
     "output_type": "execute_result"
    }
   ],
   "source": [
    "model.evaluate((X_test_A,X_test_B),y_test,verbose=2)"
   ]
  },
  {
   "cell_type": "markdown",
   "metadata": {},
   "source": [
    "### With Auxilary Output (Multipletasks outputs) Regression+classification"
   ]
  },
  {
   "cell_type": "code",
   "execution_count": 40,
   "metadata": {},
   "outputs": [],
   "source": [
    "input_a=keras.layers.Input(shape=[4],name='wide')\n",
    "input_b=keras.layers.Input(shape=[6],name='deep')\n",
    "hidden1=keras.layers.Dense(30,activation='relu')(input_b)\n",
    "hidden2=keras.layers.Dense(20,activation='relu')(hidden1)\n",
    "concat=keras.layers.Concatenate()([input_a,hidden2]) \n",
    "output=keras.layers.Dense(1,name='main_output')(concat)\n",
    "aux_out=keras.layers.Dense(1,name='Auxulary_output')(hidden2)\n",
    "model=keras.Model(inputs=[input_a,input_b],outputs=[output,aux_out])"
   ]
  },
  {
   "cell_type": "code",
   "execution_count": 41,
   "metadata": {},
   "outputs": [],
   "source": [
    "model.compile(loss=['mse','mse'],loss_weights=[0.9,0.1],optimizer='sgd')\n",
    "#we should pass list of losses\n",
    "#weight for main output > auxilary output since auxilary is used for regularization"
   ]
  },
  {
   "cell_type": "code",
   "execution_count": 42,
   "metadata": {},
   "outputs": [
    {
     "name": "stdout",
     "output_type": "stream",
     "text": [
      "Train on 11610 samples, validate on 3870 samples\n",
      "Epoch 1/10\n",
      "11610/11610 [==============================] - 1s 101us/sample - loss: 0.9930 - main_output_loss: 0.8745 - Auxulary_output_loss: 2.0574 - val_loss: 0.6444 - val_main_output_loss: 0.5736 - val_Auxulary_output_loss: 1.2825\n",
      "Epoch 2/10\n",
      "11610/11610 [==============================] - 1s 46us/sample - loss: 0.6099 - main_output_loss: 0.5552 - Auxulary_output_loss: 1.1015 - val_loss: 0.5759 - val_main_output_loss: 0.5238 - val_Auxulary_output_loss: 1.0446\n",
      "Epoch 3/10\n",
      "11610/11610 [==============================] - 1s 58us/sample - loss: 0.5088 - main_output_loss: 0.4646 - Auxulary_output_loss: 0.9090 - val_loss: 0.5108 - val_main_output_loss: 0.4731 - val_Auxulary_output_loss: 0.8506\n",
      "Epoch 4/10\n",
      "11610/11610 [==============================] - 1s 61us/sample - loss: 0.4646 - main_output_loss: 0.4293 - Auxulary_output_loss: 0.7814 - val_loss: 0.4879 - val_main_output_loss: 0.4582 - val_Auxulary_output_loss: 0.7556\n",
      "Epoch 5/10\n",
      "11610/11610 [==============================] - 1s 66us/sample - loss: 0.4420 - main_output_loss: 0.4132 - Auxulary_output_loss: 0.7007 - val_loss: 0.4665 - val_main_output_loss: 0.4407 - val_Auxulary_output_loss: 0.6989\n",
      "Epoch 6/10\n",
      "11610/11610 [==============================] - 1s 55us/sample - loss: 0.4283 - main_output_loss: 0.4039 - Auxulary_output_loss: 0.6476 - val_loss: 0.4507 - val_main_output_loss: 0.4283 - val_Auxulary_output_loss: 0.6527\n",
      "Epoch 7/10\n",
      "11610/11610 [==============================] - 1s 65us/sample - loss: 0.4175 - main_output_loss: 0.3957 - Auxulary_output_loss: 0.6129 - val_loss: 0.4391 - val_main_output_loss: 0.4185 - val_Auxulary_output_loss: 0.6246\n",
      "Epoch 8/10\n",
      "11610/11610 [==============================] - 1s 49us/sample - loss: 0.4127 - main_output_loss: 0.3930 - Auxulary_output_loss: 0.5906 - val_loss: 0.4360 - val_main_output_loss: 0.4172 - val_Auxulary_output_loss: 0.6054\n",
      "Epoch 9/10\n",
      "11610/11610 [==============================] - 1s 53us/sample - loss: 0.4028 - main_output_loss: 0.3840 - Auxulary_output_loss: 0.5713 - val_loss: 0.4273 - val_main_output_loss: 0.4096 - val_Auxulary_output_loss: 0.5866\n",
      "Epoch 10/10\n",
      "11610/11610 [==============================] - 1s 52us/sample - loss: 0.3962 - main_output_loss: 0.3784 - Auxulary_output_loss: 0.5550 - val_loss: 0.4283 - val_main_output_loss: 0.4118 - val_Auxulary_output_loss: 0.5770\n"
     ]
    }
   ],
   "source": [
    "#2 y_trains\n",
    "history = model.fit((X_train_A, X_train_B), (y_train,y_train), \n",
    "                    epochs=10,\n",
    "                    validation_data=((X_valid_A, X_valid_B), (y_valid,y_valid)))"
   ]
  },
  {
   "cell_type": "code",
   "execution_count": 43,
   "metadata": {},
   "outputs": [
    {
     "name": "stdout",
     "output_type": "stream",
     "text": [
      "5160/1 - 0s - loss: 0.2875 - main_output_loss: 0.3975 - Auxulary_output_loss: 0.5769\n"
     ]
    },
    {
     "data": {
      "text/plain": [
       "[0.4166077457195105, 0.39746565, 0.57693315]"
      ]
     },
     "execution_count": 43,
     "metadata": {},
     "output_type": "execute_result"
    }
   ],
   "source": [
    "model.evaluate(\n",
    "[X_test_A, X_test_B], [y_test, y_test],verbose=2)"
   ]
  },
  {
   "cell_type": "code",
   "execution_count": 44,
   "metadata": {},
   "outputs": [],
   "source": [
    "#predicting through main output and auxilary output\n",
    "main,aux=model.predict([X_test_A[:3],X_test_B[:3]])"
   ]
  },
  {
   "cell_type": "code",
   "execution_count": 45,
   "metadata": {},
   "outputs": [
    {
     "data": {
      "text/plain": [
       "array([[4.4896727],\n",
       "       [1.8644842],\n",
       "       [2.6530297]], dtype=float32)"
      ]
     },
     "execution_count": 45,
     "metadata": {},
     "output_type": "execute_result"
    }
   ],
   "source": [
    "main"
   ]
  },
  {
   "cell_type": "code",
   "execution_count": 46,
   "metadata": {},
   "outputs": [
    {
     "data": {
      "text/plain": [
       "array([[3.797661 ],\n",
       "       [2.2372751],\n",
       "       [2.943886 ]], dtype=float32)"
      ]
     },
     "execution_count": 46,
     "metadata": {},
     "output_type": "execute_result"
    }
   ],
   "source": [
    "aux"
   ]
  },
  {
   "cell_type": "code",
   "execution_count": 47,
   "metadata": {},
   "outputs": [],
   "source": [
    "#saving Model\n",
    "model.save(\"Vipra_keras_model.h5\")"
   ]
  },
  {
   "cell_type": "code",
   "execution_count": 48,
   "metadata": {},
   "outputs": [],
   "source": [
    "#loading model\n",
    "model_l=keras.models.load_model('Vipra_keras_model.h5')"
   ]
  },
  {
   "cell_type": "markdown",
   "metadata": {},
   "source": [
    "#### Callbacks, Rolling and early stopping"
   ]
  },
  {
   "cell_type": "code",
   "execution_count": 49,
   "metadata": {},
   "outputs": [],
   "source": [
    "\n",
    "keras.backend.clear_session()\n",
    "np.random.seed(42)\n",
    "tf.random.set_seed(42)"
   ]
  },
  {
   "cell_type": "code",
   "execution_count": 50,
   "metadata": {},
   "outputs": [],
   "source": [
    "model = keras.models.Sequential([\n",
    "    keras.layers.Dense(30, activation=\"relu\", input_shape=[8]),\n",
    "    keras.layers.Dense(30, activation=\"relu\"),\n",
    "    keras.layers.Dense(1)\n",
    "])  \n",
    "model.compile(loss=\"mse\", optimizer=keras.optimizers.SGD(lr=1e-3))\n",
    "checkpoint_cb = keras.callbacks.ModelCheckpoint(\"my_keras_model.h5\")"
   ]
  },
  {
   "cell_type": "code",
   "execution_count": 51,
   "metadata": {},
   "outputs": [
    {
     "name": "stdout",
     "output_type": "stream",
     "text": [
      "Train on 11610 samples\n",
      "Epoch 1/10\n",
      "11610/11610 [==============================] - 1s 50us/sample - loss: 1.8840\n",
      "Epoch 2/10\n",
      "11610/11610 [==============================] - 0s 34us/sample - loss: 0.6668\n",
      "Epoch 3/10\n",
      "11610/11610 [==============================] - 0s 33us/sample - loss: 0.6005\n",
      "Epoch 4/10\n",
      "11610/11610 [==============================] - 0s 31us/sample - loss: 0.5637\n",
      "Epoch 5/10\n",
      "11610/11610 [==============================] - 0s 30us/sample - loss: 0.5342\n",
      "Epoch 6/10\n",
      "11610/11610 [==============================] - 0s 35us/sample - loss: 0.5141\n",
      "Epoch 7/10\n",
      "11610/11610 [==============================] - 0s 36us/sample - loss: 0.4953\n",
      "Epoch 8/10\n",
      "11610/11610 [==============================] - 0s 33us/sample - loss: 0.4806\n",
      "Epoch 9/10\n",
      "11610/11610 [==============================] - 0s 33us/sample - loss: 0.4687\n",
      "Epoch 10/10\n",
      "11610/11610 [==============================] - 0s 30us/sample - loss: 0.4600\n"
     ]
    }
   ],
   "source": [
    "\n",
    "history = model.fit(X_train, y_train, epochs=10, callbacks=[checkpoint_cb])\n",
    "model.save(\"my_keras_model.h5\")"
   ]
  },
  {
   "cell_type": "code",
   "execution_count": 52,
   "metadata": {},
   "outputs": [
    {
     "name": "stdout",
     "output_type": "stream",
     "text": [
      "3870/1 - 0s - loss: 0.5418\n"
     ]
    },
    {
     "data": {
      "text/plain": [
       "0.4870754593102507"
      ]
     },
     "execution_count": 52,
     "metadata": {},
     "output_type": "execute_result"
    }
   ],
   "source": [
    "model = keras.models.load_model(\"my_keras_model.h5\") \n",
    "model.evaluate(X_valid,y_valid,verbose=2) "
   ]
  },
  {
   "cell_type": "code",
   "execution_count": 53,
   "metadata": {},
   "outputs": [
    {
     "name": "stdout",
     "output_type": "stream",
     "text": [
      "Train on 11610 samples, validate on 3870 samples\n",
      "Epoch 1/10\n",
      "11610/11610 [==============================] - 1s 87us/sample - loss: 0.4515 - val_loss: 0.4810\n",
      "Epoch 2/10\n",
      "11610/11610 [==============================] - 1s 44us/sample - loss: 0.4447 - val_loss: 0.4746\n",
      "Epoch 3/10\n",
      "11610/11610 [==============================] - 0s 40us/sample - loss: 0.4399 - val_loss: 0.4701\n",
      "Epoch 4/10\n",
      "11610/11610 [==============================] - 0s 39us/sample - loss: 0.4344 - val_loss: 0.4676\n",
      "Epoch 5/10\n",
      "11610/11610 [==============================] - 0s 35us/sample - loss: 0.4295 - val_loss: 0.4617\n",
      "Epoch 6/10\n",
      "11610/11610 [==============================] - 0s 34us/sample - loss: 0.4270 - val_loss: 0.4639\n",
      "Epoch 7/10\n",
      "11610/11610 [==============================] - 0s 34us/sample - loss: 0.4228 - val_loss: 0.4555\n",
      "Epoch 8/10\n",
      "11610/11610 [==============================] - 0s 34us/sample - loss: 0.4191 - val_loss: 0.4536\n",
      "Epoch 9/10\n",
      "11610/11610 [==============================] - 0s 35us/sample - loss: 0.4158 - val_loss: 0.4501\n",
      "Epoch 10/10\n",
      "11610/11610 [==============================] - 0s 35us/sample - loss: 0.4134 - val_loss: 0.4478\n"
     ]
    }
   ],
   "source": [
    "#In this case, it will only save your model when its performance on\n",
    "#the validation set is the best so far. while using validationset\n",
    "\n",
    "checkpoint_cb = keras.callbacks.ModelCheckpoint(\"my_keras_model.h5\", save_best_only=True)\n",
    "history = model.fit(X_train, y_train, epochs=10,\n",
    "                    validation_data=(X_valid, y_valid),\n",
    "                    callbacks=[checkpoint_cb])\n",
    "model.save(\"my_keras_model.h5\")\n"
   ]
  },
  {
   "cell_type": "code",
   "execution_count": 54,
   "metadata": {},
   "outputs": [],
   "source": [
    "model = keras.models.load_model(\"my_keras_model.h5\")# rollback to best model"
   ]
  },
  {
   "cell_type": "code",
   "execution_count": 55,
   "metadata": {},
   "outputs": [
    {
     "name": "stdout",
     "output_type": "stream",
     "text": [
      "5160/1 - 0s - loss: 0.3320\n"
     ]
    },
    {
     "data": {
      "text/plain": [
       "0.4399130249208258"
      ]
     },
     "execution_count": 55,
     "metadata": {},
     "output_type": "execute_result"
    }
   ],
   "source": [
    "model.evaluate(X_test,y_test,verbose=2)"
   ]
  },
  {
   "cell_type": "code",
   "execution_count": 56,
   "metadata": {},
   "outputs": [],
   "source": [
    "## EARLY STOPPING with patience combining both checkpoints and eatly stoppage\n",
    "early_stopping_cb = keras.callbacks.EarlyStopping(patience=15,\n",
    "restore_best_weights=True)"
   ]
  },
  {
   "cell_type": "code",
   "execution_count": 57,
   "metadata": {},
   "outputs": [
    {
     "name": "stdout",
     "output_type": "stream",
     "text": [
      "Train on 11610 samples, validate on 3870 samples\n",
      "Epoch 1/100\n",
      "11610/11610 [==============================] - 0s 41us/sample - loss: 0.4101 - val_loss: 0.4450\n",
      "Epoch 2/100\n",
      "11610/11610 [==============================] - 0s 34us/sample - loss: 0.4075 - val_loss: 0.4422\n",
      "Epoch 3/100\n",
      "11610/11610 [==============================] - 0s 33us/sample - loss: 0.4052 - val_loss: 0.4397\n",
      "Epoch 4/100\n",
      "11610/11610 [==============================] - 0s 35us/sample - loss: 0.4026 - val_loss: 0.4381\n",
      "Epoch 5/100\n",
      "11610/11610 [==============================] - 0s 32us/sample - loss: 0.4001 - val_loss: 0.4352\n",
      "Epoch 6/100\n",
      "11610/11610 [==============================] - 0s 33us/sample - loss: 0.3983 - val_loss: 0.4363\n",
      "Epoch 7/100\n",
      "11610/11610 [==============================] - 0s 34us/sample - loss: 0.3961 - val_loss: 0.4312\n",
      "Epoch 8/100\n",
      "11610/11610 [==============================] - 0s 34us/sample - loss: 0.3939 - val_loss: 0.4296\n",
      "Epoch 9/100\n",
      "11610/11610 [==============================] - 0s 36us/sample - loss: 0.3920 - val_loss: 0.4277\n",
      "Epoch 10/100\n",
      "11610/11610 [==============================] - 0s 36us/sample - loss: 0.3904 - val_loss: 0.4263\n",
      "Epoch 11/100\n",
      "11610/11610 [==============================] - 0s 35us/sample - loss: 0.3882 - val_loss: 0.4247\n",
      "Epoch 12/100\n",
      "11610/11610 [==============================] - 0s 34us/sample - loss: 0.3862 - val_loss: 0.4226\n",
      "Epoch 13/100\n",
      "11610/11610 [==============================] - 0s 36us/sample - loss: 0.3850 - val_loss: 0.4221\n",
      "Epoch 14/100\n",
      "11610/11610 [==============================] - 0s 37us/sample - loss: 0.3833 - val_loss: 0.4191\n",
      "Epoch 15/100\n",
      "11610/11610 [==============================] - 0s 36us/sample - loss: 0.3823 - val_loss: 0.4185\n",
      "Epoch 16/100\n",
      "11610/11610 [==============================] - 0s 35us/sample - loss: 0.3800 - val_loss: 0.4174\n",
      "Epoch 17/100\n",
      "11610/11610 [==============================] - 0s 35us/sample - loss: 0.3783 - val_loss: 0.4163\n",
      "Epoch 18/100\n",
      "11610/11610 [==============================] - 0s 35us/sample - loss: 0.3770 - val_loss: 0.4144\n",
      "Epoch 19/100\n",
      "11610/11610 [==============================] - 0s 35us/sample - loss: 0.3754 - val_loss: 0.4139\n",
      "Epoch 20/100\n",
      "11610/11610 [==============================] - 0s 37us/sample - loss: 0.3743 - val_loss: 0.4119\n",
      "Epoch 21/100\n",
      "11610/11610 [==============================] - 0s 37us/sample - loss: 0.3727 - val_loss: 0.4105\n",
      "Epoch 22/100\n",
      "11610/11610 [==============================] - 0s 35us/sample - loss: 0.3714 - val_loss: 0.4094\n",
      "Epoch 23/100\n",
      "11610/11610 [==============================] - 1s 44us/sample - loss: 0.3701 - val_loss: 0.4078\n",
      "Epoch 24/100\n",
      "11610/11610 [==============================] - 1s 43us/sample - loss: 0.3683 - val_loss: 0.4074\n",
      "Epoch 25/100\n",
      "11610/11610 [==============================] - 0s 42us/sample - loss: 0.3676 - val_loss: 0.4062\n",
      "Epoch 26/100\n",
      "11610/11610 [==============================] - 1s 51us/sample - loss: 0.3664 - val_loss: 0.4051\n",
      "Epoch 27/100\n",
      "11610/11610 [==============================] - 1s 59us/sample - loss: 0.3652 - val_loss: 0.4039\n",
      "Epoch 28/100\n",
      "11610/11610 [==============================] - 1s 46us/sample - loss: 0.3638 - val_loss: 0.4028\n",
      "Epoch 29/100\n",
      "11610/11610 [==============================] - 0s 38us/sample - loss: 0.3628 - val_loss: 0.4017\n",
      "Epoch 30/100\n",
      "11610/11610 [==============================] - 0s 36us/sample - loss: 0.3617 - val_loss: 0.4008\n",
      "Epoch 31/100\n",
      "11610/11610 [==============================] - 0s 37us/sample - loss: 0.3606 - val_loss: 0.3996\n",
      "Epoch 32/100\n",
      "11610/11610 [==============================] - 0s 38us/sample - loss: 0.3594 - val_loss: 0.3989\n",
      "Epoch 33/100\n",
      "11610/11610 [==============================] - 0s 35us/sample - loss: 0.3581 - val_loss: 0.3989\n",
      "Epoch 34/100\n",
      "11610/11610 [==============================] - 0s 37us/sample - loss: 0.3576 - val_loss: 0.3969\n",
      "Epoch 35/100\n",
      "11610/11610 [==============================] - 0s 39us/sample - loss: 0.3563 - val_loss: 0.3961\n",
      "Epoch 36/100\n",
      "11610/11610 [==============================] - 0s 43us/sample - loss: 0.3555 - val_loss: 0.3951\n",
      "Epoch 37/100\n",
      "11610/11610 [==============================] - 0s 38us/sample - loss: 0.3544 - val_loss: 0.3941\n",
      "Epoch 38/100\n",
      "11610/11610 [==============================] - 0s 39us/sample - loss: 0.3534 - val_loss: 0.3934\n",
      "Epoch 39/100\n",
      "11610/11610 [==============================] - 0s 35us/sample - loss: 0.3522 - val_loss: 0.3934\n",
      "Epoch 40/100\n",
      "11610/11610 [==============================] - 0s 34us/sample - loss: 0.3516 - val_loss: 0.3920\n",
      "Epoch 41/100\n",
      "11610/11610 [==============================] - 0s 34us/sample - loss: 0.3507 - val_loss: 0.3913\n",
      "Epoch 42/100\n",
      "11610/11610 [==============================] - 0s 34us/sample - loss: 0.3496 - val_loss: 0.3909\n",
      "Epoch 43/100\n",
      "11610/11610 [==============================] - 0s 34us/sample - loss: 0.3485 - val_loss: 0.3903\n",
      "Epoch 44/100\n",
      "11610/11610 [==============================] - 0s 35us/sample - loss: 0.3478 - val_loss: 0.3891\n",
      "Epoch 45/100\n",
      "11610/11610 [==============================] - 0s 36us/sample - loss: 0.3466 - val_loss: 0.3891\n",
      "Epoch 46/100\n",
      "11610/11610 [==============================] - 0s 36us/sample - loss: 0.3458 - val_loss: 0.3879\n",
      "Epoch 47/100\n",
      "11610/11610 [==============================] - 0s 36us/sample - loss: 0.3449 - val_loss: 0.3874\n",
      "Epoch 48/100\n",
      "11610/11610 [==============================] - 0s 36us/sample - loss: 0.3439 - val_loss: 0.3869\n",
      "Epoch 49/100\n",
      "11610/11610 [==============================] - 0s 36us/sample - loss: 0.3433 - val_loss: 0.3860\n",
      "Epoch 50/100\n",
      "11610/11610 [==============================] - 0s 35us/sample - loss: 0.3426 - val_loss: 0.3848\n",
      "Epoch 51/100\n",
      "11610/11610 [==============================] - 0s 34us/sample - loss: 0.3416 - val_loss: 0.3843\n",
      "Epoch 52/100\n",
      "11610/11610 [==============================] - 0s 34us/sample - loss: 0.3408 - val_loss: 0.3839\n",
      "Epoch 53/100\n",
      "11610/11610 [==============================] - 0s 34us/sample - loss: 0.3400 - val_loss: 0.3831\n",
      "Epoch 54/100\n",
      "11610/11610 [==============================] - 0s 34us/sample - loss: 0.3393 - val_loss: 0.3825\n",
      "Epoch 55/100\n",
      "11610/11610 [==============================] - 0s 33us/sample - loss: 0.3382 - val_loss: 0.3834\n",
      "Epoch 56/100\n",
      "11610/11610 [==============================] - 0s 35us/sample - loss: 0.3376 - val_loss: 0.3817\n",
      "Epoch 57/100\n",
      "11610/11610 [==============================] - 0s 34us/sample - loss: 0.3370 - val_loss: 0.3806\n",
      "Epoch 58/100\n",
      "11610/11610 [==============================] - 0s 34us/sample - loss: 0.3362 - val_loss: 0.3805\n",
      "Epoch 59/100\n",
      "11610/11610 [==============================] - 0s 34us/sample - loss: 0.3354 - val_loss: 0.3799\n",
      "Epoch 60/100\n",
      "11610/11610 [==============================] - 0s 34us/sample - loss: 0.3348 - val_loss: 0.3801\n",
      "Epoch 61/100\n",
      "11610/11610 [==============================] - 0s 35us/sample - loss: 0.3340 - val_loss: 0.3789\n",
      "Epoch 62/100\n",
      "11610/11610 [==============================] - 0s 34us/sample - loss: 0.3336 - val_loss: 0.3787\n",
      "Epoch 63/100\n",
      "11610/11610 [==============================] - 0s 35us/sample - loss: 0.3329 - val_loss: 0.3780\n",
      "Epoch 64/100\n",
      "11610/11610 [==============================] - 0s 35us/sample - loss: 0.3322 - val_loss: 0.3774\n",
      "Epoch 65/100\n",
      "11610/11610 [==============================] - 0s 34us/sample - loss: 0.3314 - val_loss: 0.3770\n",
      "Epoch 66/100\n",
      "11610/11610 [==============================] - 0s 34us/sample - loss: 0.3309 - val_loss: 0.3766\n",
      "Epoch 67/100\n",
      "11610/11610 [==============================] - 0s 34us/sample - loss: 0.3302 - val_loss: 0.3759\n",
      "Epoch 68/100\n",
      "11610/11610 [==============================] - 0s 35us/sample - loss: 0.3297 - val_loss: 0.3760\n",
      "Epoch 69/100\n",
      "11610/11610 [==============================] - 0s 34us/sample - loss: 0.3288 - val_loss: 0.3758\n",
      "Epoch 70/100\n",
      "11610/11610 [==============================] - 0s 34us/sample - loss: 0.3282 - val_loss: 0.3746\n",
      "Epoch 71/100\n",
      "11610/11610 [==============================] - 0s 34us/sample - loss: 0.3277 - val_loss: 0.3741\n",
      "Epoch 72/100\n",
      "11610/11610 [==============================] - 0s 34us/sample - loss: 0.3271 - val_loss: 0.3733\n",
      "Epoch 73/100\n",
      "11610/11610 [==============================] - 0s 36us/sample - loss: 0.3268 - val_loss: 0.3731\n",
      "Epoch 74/100\n",
      "11610/11610 [==============================] - 0s 34us/sample - loss: 0.3258 - val_loss: 0.3733\n",
      "Epoch 75/100\n",
      "11610/11610 [==============================] - 0s 35us/sample - loss: 0.3255 - val_loss: 0.3716\n"
     ]
    },
    {
     "name": "stdout",
     "output_type": "stream",
     "text": [
      "Epoch 76/100\n",
      "11610/11610 [==============================] - 0s 34us/sample - loss: 0.3255 - val_loss: 0.3725\n",
      "Epoch 77/100\n",
      "11610/11610 [==============================] - 0s 35us/sample - loss: 0.3248 - val_loss: 0.3708\n",
      "Epoch 78/100\n",
      "11610/11610 [==============================] - 0s 35us/sample - loss: 0.3250 - val_loss: 0.3711\n",
      "Epoch 79/100\n",
      "11610/11610 [==============================] - 0s 36us/sample - loss: 0.3233 - val_loss: 0.3700\n",
      "Epoch 80/100\n",
      "11610/11610 [==============================] - 0s 39us/sample - loss: 0.3228 - val_loss: 0.3698\n",
      "Epoch 81/100\n",
      "11610/11610 [==============================] - 0s 40us/sample - loss: 0.3224 - val_loss: 0.3692\n",
      "Epoch 82/100\n",
      "11610/11610 [==============================] - 0s 37us/sample - loss: 0.3215 - val_loss: 0.3682\n",
      "Epoch 83/100\n",
      "11610/11610 [==============================] - 0s 37us/sample - loss: 0.3215 - val_loss: 0.3685\n",
      "Epoch 84/100\n",
      "11610/11610 [==============================] - 0s 40us/sample - loss: 0.3218 - val_loss: 0.3676\n",
      "Epoch 85/100\n",
      "11610/11610 [==============================] - 0s 37us/sample - loss: 0.3220 - val_loss: 0.3671\n",
      "Epoch 86/100\n",
      "11610/11610 [==============================] - 0s 37us/sample - loss: 0.3200 - val_loss: 0.3665\n",
      "Epoch 87/100\n",
      "11610/11610 [==============================] - 0s 36us/sample - loss: 0.3190 - val_loss: 0.3670\n",
      "Epoch 88/100\n",
      "11610/11610 [==============================] - 0s 37us/sample - loss: 0.3190 - val_loss: 0.3667\n",
      "Epoch 89/100\n",
      "11610/11610 [==============================] - 0s 38us/sample - loss: 0.3186 - val_loss: 0.3663\n",
      "Epoch 90/100\n",
      "11610/11610 [==============================] - 0s 37us/sample - loss: 0.3182 - val_loss: 0.3653\n",
      "Epoch 91/100\n",
      "11610/11610 [==============================] - 0s 36us/sample - loss: 0.3174 - val_loss: 0.3651\n",
      "Epoch 92/100\n",
      "11610/11610 [==============================] - 0s 36us/sample - loss: 0.3173 - val_loss: 0.3643\n",
      "Epoch 93/100\n",
      "11610/11610 [==============================] - 0s 35us/sample - loss: 0.3168 - val_loss: 0.3634\n",
      "Epoch 94/100\n",
      "11610/11610 [==============================] - 0s 34us/sample - loss: 0.3164 - val_loss: 0.3636\n",
      "Epoch 95/100\n",
      "11610/11610 [==============================] - 0s 34us/sample - loss: 0.3157 - val_loss: 0.3632\n",
      "Epoch 96/100\n",
      "11610/11610 [==============================] - 0s 34us/sample - loss: 0.3151 - val_loss: 0.3632\n",
      "Epoch 97/100\n",
      "11610/11610 [==============================] - 0s 35us/sample - loss: 0.3155 - val_loss: 0.3624\n",
      "Epoch 98/100\n",
      "11610/11610 [==============================] - 0s 34us/sample - loss: 0.3150 - val_loss: 0.3625\n",
      "Epoch 99/100\n",
      "11610/11610 [==============================] - 0s 34us/sample - loss: 0.3150 - val_loss: 0.3618\n",
      "Epoch 100/100\n",
      "11610/11610 [==============================] - 0s 34us/sample - loss: 0.3145 - val_loss: 0.3607\n"
     ]
    }
   ],
   "source": [
    "\n",
    "history = model.fit(X_train, y_train, epochs=100,\n",
    "validation_data=(X_valid, y_valid),\n",
    "callbacks=[checkpoint_cb, early_stopping_cb])"
   ]
  },
  {
   "cell_type": "code",
   "execution_count": 58,
   "metadata": {},
   "outputs": [
    {
     "name": "stdout",
     "output_type": "stream",
     "text": [
      "3870/1 - 0s - loss: 0.3327\n"
     ]
    },
    {
     "data": {
      "text/plain": [
       "0.3607498497463936"
      ]
     },
     "execution_count": 58,
     "metadata": {},
     "output_type": "execute_result"
    }
   ],
   "source": [
    "model.evaluate(X_valid,y_valid,verbose=2)"
   ]
  },
  {
   "cell_type": "markdown",
   "metadata": {},
   "source": [
    "### Visualizing using TENSOR BOARD"
   ]
  },
  {
   "cell_type": "code",
   "execution_count": 59,
   "metadata": {},
   "outputs": [],
   "source": [
    "import os\n",
    "root_logdir = os.path.join(os.curdir, \"my_logs\")\n",
    "def get_run_logdir():\n",
    "    import time\n",
    "    run_id = time.strftime(\"run_%Y_%m_%d-%H_%M_%S\")\n",
    "    return os.path.join(root_logdir, run_id)"
   ]
  },
  {
   "cell_type": "code",
   "execution_count": 60,
   "metadata": {},
   "outputs": [],
   "source": [
    "run_logdir=get_run_logdir()"
   ]
  },
  {
   "cell_type": "code",
   "execution_count": 61,
   "metadata": {},
   "outputs": [
    {
     "name": "stdout",
     "output_type": "stream",
     "text": [
      "Train on 11610 samples, validate on 3870 samples\n",
      "Epoch 1/30\n",
      "   32/11610 [..............................] - ETA: 7s - loss: 0.3005WARNING:tensorflow:Method (on_train_batch_end) is slow compared to the batch update (0.155212). Check your callbacks.\n",
      "11610/11610 [==============================] - 1s 63us/sample - loss: 0.3140 - val_loss: 0.3611\n",
      "Epoch 2/30\n",
      "11610/11610 [==============================] - 0s 36us/sample - loss: 0.3150 - val_loss: 0.3603\n",
      "Epoch 3/30\n",
      "11610/11610 [==============================] - 0s 35us/sample - loss: 0.3147 - val_loss: 0.3617\n",
      "Epoch 4/30\n",
      "11610/11610 [==============================] - 0s 36us/sample - loss: 0.3132 - val_loss: 0.3598\n",
      "Epoch 5/30\n",
      "11610/11610 [==============================] - 0s 36us/sample - loss: 0.3134 - val_loss: 0.3595\n",
      "Epoch 6/30\n",
      "11610/11610 [==============================] - 0s 35us/sample - loss: 0.3110 - val_loss: 0.3591\n",
      "Epoch 7/30\n",
      "11610/11610 [==============================] - 0s 36us/sample - loss: 0.3107 - val_loss: 0.3590\n",
      "Epoch 8/30\n",
      "11610/11610 [==============================] - 1s 49us/sample - loss: 0.3102 - val_loss: 0.3586\n",
      "Epoch 9/30\n",
      "11610/11610 [==============================] - 0s 38us/sample - loss: 0.3101 - val_loss: 0.3585\n",
      "Epoch 10/30\n",
      "11610/11610 [==============================] - 0s 36us/sample - loss: 0.3098 - val_loss: 0.3588\n",
      "Epoch 11/30\n",
      "11610/11610 [==============================] - 0s 35us/sample - loss: 0.3092 - val_loss: 0.3578\n",
      "Epoch 12/30\n",
      "11610/11610 [==============================] - 0s 38us/sample - loss: 0.3089 - val_loss: 0.3577\n",
      "Epoch 13/30\n",
      "11610/11610 [==============================] - 1s 80us/sample - loss: 0.3086 - val_loss: 0.3571\n",
      "Epoch 14/30\n",
      "11610/11610 [==============================] - 1s 63us/sample - loss: 0.3080 - val_loss: 0.3565\n",
      "Epoch 15/30\n",
      "11610/11610 [==============================] - 0s 42us/sample - loss: 0.3085 - val_loss: 0.3573\n",
      "Epoch 16/30\n",
      "11610/11610 [==============================] - 1s 76us/sample - loss: 0.3075 - val_loss: 0.3566\n",
      "Epoch 17/30\n",
      "11610/11610 [==============================] - 1s 81us/sample - loss: 0.3072 - val_loss: 0.3556\n",
      "Epoch 18/30\n",
      "11610/11610 [==============================] - 1s 92us/sample - loss: 0.3070 - val_loss: 0.3563\n",
      "Epoch 19/30\n",
      "11610/11610 [==============================] - 1s 69us/sample - loss: 0.3071 - val_loss: 0.3548\n",
      "Epoch 20/30\n",
      "11610/11610 [==============================] - 0s 41us/sample - loss: 0.3091 - val_loss: 0.3549\n",
      "Epoch 21/30\n",
      "11610/11610 [==============================] - 0s 40us/sample - loss: 0.3060 - val_loss: 0.3552\n",
      "Epoch 22/30\n",
      "11610/11610 [==============================] - 0s 38us/sample - loss: 0.3056 - val_loss: 0.3542\n",
      "Epoch 23/30\n",
      "11610/11610 [==============================] - 0s 40us/sample - loss: 0.3048 - val_loss: 0.3538\n",
      "Epoch 24/30\n",
      "11610/11610 [==============================] - 0s 42us/sample - loss: 0.3044 - val_loss: 0.3539\n",
      "Epoch 25/30\n",
      "11610/11610 [==============================] - 0s 42us/sample - loss: 0.3045 - val_loss: 0.3543\n",
      "Epoch 26/30\n",
      "11610/11610 [==============================] - 0s 39us/sample - loss: 0.3041 - val_loss: 0.3530\n",
      "Epoch 27/30\n",
      "11610/11610 [==============================] - 0s 40us/sample - loss: 0.3044 - val_loss: 0.3537\n",
      "Epoch 28/30\n",
      "11610/11610 [==============================] - 0s 42us/sample - loss: 0.3035 - val_loss: 0.3529\n",
      "Epoch 29/30\n",
      "11610/11610 [==============================] - 0s 39us/sample - loss: 0.3033 - val_loss: 0.3520\n",
      "Epoch 30/30\n",
      "11610/11610 [==============================] - 1s 115us/sample - loss: 0.3028 - val_loss: 0.3522\n"
     ]
    }
   ],
   "source": [
    "tensorboard_cb=keras.callbacks.TensorBoard(run_logdir)\n",
    "history=model.fit(X_train,y_train,epochs=30,validation_data=(X_valid,y_valid),callbacks=[tensorboard_cb])"
   ]
  },
  {
   "cell_type": "code",
   "execution_count": 70,
   "metadata": {},
   "outputs": [
    {
     "name": "stdout",
     "output_type": "stream",
     "text": [
      "The tensorboard extension is already loaded. To reload it, use:\n",
      "  %reload_ext tensorboard\n"
     ]
    },
    {
     "data": {
      "text/plain": [
       "Reusing TensorBoard on port 6006 (pid 27540), started 0:02:59 ago. (Use '!kill 27540' to kill it.)"
      ]
     },
     "metadata": {},
     "output_type": "display_data"
    },
    {
     "data": {
      "text/html": [
       "\n",
       "      <iframe id=\"tensorboard-frame-ee7ab13419bfdf36\" width=\"100%\" height=\"800\" frameborder=\"0\">\n",
       "      </iframe>\n",
       "      <script>\n",
       "        (function() {\n",
       "          const frame = document.getElementById(\"tensorboard-frame-ee7ab13419bfdf36\");\n",
       "          const url = new URL(\"/\", window.location);\n",
       "          url.port = 6006;\n",
       "          frame.src = url;\n",
       "        })();\n",
       "      </script>\n",
       "  "
      ],
      "text/plain": [
       "<IPython.core.display.HTML object>"
      ]
     },
     "metadata": {},
     "output_type": "display_data"
    }
   ],
   "source": [
    "%load_ext tensorboard\n",
    "%tensorboard --logdir=./my_logs --port=6006"
   ]
  }
 ],
 "metadata": {
  "kernelspec": {
   "display_name": "Python 3",
   "language": "python",
   "name": "python3"
  },
  "language_info": {
   "codemirror_mode": {
    "name": "ipython",
    "version": 3
   },
   "file_extension": ".py",
   "mimetype": "text/x-python",
   "name": "python",
   "nbconvert_exporter": "python",
   "pygments_lexer": "ipython3",
   "version": "3.7.3"
  },
  "varInspector": {
   "cols": {
    "lenName": 16,
    "lenType": 16,
    "lenVar": 40
   },
   "kernels_config": {
    "python": {
     "delete_cmd_postfix": "",
     "delete_cmd_prefix": "del ",
     "library": "var_list.py",
     "varRefreshCmd": "print(var_dic_list())"
    },
    "r": {
     "delete_cmd_postfix": ") ",
     "delete_cmd_prefix": "rm(",
     "library": "var_list.r",
     "varRefreshCmd": "cat(var_dic_list()) "
    }
   },
   "oldHeight": 357,
   "position": {
    "height": "379px",
    "left": "637px",
    "right": "20px",
    "top": "228px",
    "width": "307px"
   },
   "types_to_exclude": [
    "module",
    "function",
    "builtin_function_or_method",
    "instance",
    "_Feature"
   ],
   "varInspector_section_display": "block",
   "window_display": false
  }
 },
 "nbformat": 4,
 "nbformat_minor": 2
}
