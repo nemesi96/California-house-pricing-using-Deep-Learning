{
 "cells": [
  {
   "cell_type": "markdown",
   "metadata": {},
   "source": [
    "#### Importing"
   ]
  },
  {
   "cell_type": "code",
   "execution_count": 3,
   "metadata": {},
   "outputs": [],
   "source": [
    "\n",
    "import tensorflow as tf\n",
    "from tensorflow import keras\n",
    "from tensorflow.keras.layers import Dense\n",
    "import matplotlib as mpl\n",
    "import matplotlib.pyplot as plt\n",
    "import pandas as pd\n",
    "from tensorflow.keras import optimizers\n",
    "from sklearn.datasets import fetch_california_housing\n",
    "from sklearn.model_selection import train_test_split\n",
    "from sklearn.preprocessing import StandardScaler"
   ]
  },
  {
   "cell_type": "markdown",
   "metadata": {},
   "source": [
    "#### Loading Data"
   ]
  },
  {
   "cell_type": "code",
   "execution_count": 4,
   "metadata": {},
   "outputs": [],
   "source": [
    "housing=fetch_california_housing()"
   ]
  },
  {
   "cell_type": "markdown",
   "metadata": {},
   "source": [
    "#### Spliting Data for tesing and validation"
   ]
  },
  {
   "cell_type": "code",
   "execution_count": 5,
   "metadata": {},
   "outputs": [],
   "source": [
    "X_train_full,X_test,y_train_full,y_test=train_test_split(housing['data'],housing['target'])\n",
    "X_train,X_valid,y_train,y_valid=train_test_split(X_train_full,y_train_full)"
   ]
  },
  {
   "cell_type": "markdown",
   "metadata": {},
   "source": [
    "#### Scaling inputs"
   ]
  },
  {
   "cell_type": "code",
   "execution_count": 6,
   "metadata": {},
   "outputs": [],
   "source": [
    "scaler = StandardScaler()\n",
    "X_train = scaler.fit_transform(X_train)\n",
    "X_valid = scaler.transform(X_valid)\n",
    "X_test = scaler.transform(X_test)"
   ]
  },
  {
   "cell_type": "markdown",
   "metadata": {},
   "source": [
    "#### Building Neural Network"
   ]
  },
  {
   "cell_type": "code",
   "execution_count": 7,
   "metadata": {},
   "outputs": [],
   "source": [
    "#2 hidden layers with 30(lower) and 20(upper) nodes \n",
    "model=keras.Sequential([\n",
    "     keras.layers.Dense(30,activation='relu',input_shape=X_train.shape[1:]),\n",
    "    keras.layers.Dense(20),\n",
    "    keras.layers.Dense(1)\n",
    "])\n",
    "sgd=optimizers.SGD(learning_rate=0.015)\n",
    "model.compile(loss='mean_squared_error',optimizers=sgd) "
   ]
  },
  {
   "cell_type": "code",
   "execution_count": 12,
   "metadata": {},
   "outputs": [
    {
     "name": "stdout",
     "output_type": "stream",
     "text": [
      "Train on 11610 samples, validate on 3870 samples\n",
      "Epoch 1/20\n",
      "11610/11610 [==============================] - 0s 18us/sample - loss: 0.3052 - val_loss: 1.1229\n",
      "Epoch 2/20\n",
      "11610/11610 [==============================] - 0s 18us/sample - loss: 0.3010 - val_loss: 2.8358\n",
      "Epoch 3/20\n",
      "11610/11610 [==============================] - 0s 18us/sample - loss: 0.3020 - val_loss: 3.9294\n",
      "Epoch 4/20\n",
      "11610/11610 [==============================] - 0s 18us/sample - loss: 0.2988 - val_loss: 2.3956\n",
      "Epoch 5/20\n",
      "11610/11610 [==============================] - 0s 19us/sample - loss: 0.3009 - val_loss: 2.3488\n",
      "Epoch 6/20\n",
      "11610/11610 [==============================] - 0s 19us/sample - loss: 0.2993 - val_loss: 0.4580\n",
      "Epoch 7/20\n",
      "11610/11610 [==============================] - 0s 19us/sample - loss: 0.2969 - val_loss: 1.4290\n",
      "Epoch 8/20\n",
      "11610/11610 [==============================] - 0s 19us/sample - loss: 0.2999 - val_loss: 3.7113\n",
      "Epoch 9/20\n",
      "11610/11610 [==============================] - 0s 19us/sample - loss: 0.2949 - val_loss: 2.1037\n",
      "Epoch 10/20\n",
      "11610/11610 [==============================] - 0s 20us/sample - loss: 0.2980 - val_loss: 4.1890\n",
      "Epoch 11/20\n",
      "11610/11610 [==============================] - 0s 19us/sample - loss: 0.2947 - val_loss: 0.8578\n",
      "Epoch 12/20\n",
      "11610/11610 [==============================] - 0s 18us/sample - loss: 0.2985 - val_loss: 4.2995\n",
      "Epoch 13/20\n",
      "11610/11610 [==============================] - 0s 18us/sample - loss: 0.2960 - val_loss: 1.1373\n",
      "Epoch 14/20\n",
      "11610/11610 [==============================] - 0s 18us/sample - loss: 0.2959 - val_loss: 0.9109\n",
      "Epoch 15/20\n",
      "11610/11610 [==============================] - 0s 18us/sample - loss: 0.2972 - val_loss: 1.5929\n",
      "Epoch 16/20\n",
      "11610/11610 [==============================] - 0s 19us/sample - loss: 0.2938 - val_loss: 1.9348\n",
      "Epoch 17/20\n",
      "11610/11610 [==============================] - 0s 18us/sample - loss: 0.2936 - val_loss: 1.6508\n",
      "Epoch 18/20\n",
      "11610/11610 [==============================] - 0s 18us/sample - loss: 0.2940 - val_loss: 2.0682\n",
      "Epoch 19/20\n",
      "11610/11610 [==============================] - 0s 18us/sample - loss: 0.2948 - val_loss: 3.3854\n",
      "Epoch 20/20\n",
      "11610/11610 [==============================] - 0s 18us/sample - loss: 0.2956 - val_loss: 1.0688\n"
     ]
    }
   ],
   "source": [
    "history=model.fit(X_train,y_train,validation_data=(X_valid,y_valid),epochs=20,batch_size=64)"
   ]
  },
  {
   "cell_type": "markdown",
   "metadata": {},
   "source": [
    "#### Evaluating"
   ]
  },
  {
   "cell_type": "code",
   "execution_count": 13,
   "metadata": {},
   "outputs": [
    {
     "name": "stdout",
     "output_type": "stream",
     "text": [
      "5160/1 - 0s - loss: 0.6593\n"
     ]
    },
    {
     "data": {
      "text/plain": [
       "0.42917524377504984"
      ]
     },
     "execution_count": 13,
     "metadata": {},
     "output_type": "execute_result"
    }
   ],
   "source": [
    "model.evaluate(X_test,y_test,verbose=2)"
   ]
  },
  {
   "cell_type": "markdown",
   "metadata": {},
   "source": [
    "#### LEarning Curves"
   ]
  },
  {
   "cell_type": "code",
   "execution_count": null,
   "metadata": {},
   "outputs": [],
   "source": [
    "pd.DataFrame(history.history).plot(figsize=(14,8))\n",
    "plt.grid(True)"
   ]
  }
 ],
 "metadata": {
  "kernelspec": {
   "display_name": "Python 3",
   "language": "python",
   "name": "python3"
  },
  "language_info": {
   "codemirror_mode": {
    "name": "ipython",
    "version": 3
   },
   "file_extension": ".py",
   "mimetype": "text/x-python",
   "name": "python",
   "nbconvert_exporter": "python",
   "pygments_lexer": "ipython3",
   "version": "3.7.3"
  },
  "varInspector": {
   "cols": {
    "lenName": 16,
    "lenType": 16,
    "lenVar": 40
   },
   "kernels_config": {
    "python": {
     "delete_cmd_postfix": "",
     "delete_cmd_prefix": "del ",
     "library": "var_list.py",
     "varRefreshCmd": "print(var_dic_list())"
    },
    "r": {
     "delete_cmd_postfix": ") ",
     "delete_cmd_prefix": "rm(",
     "library": "var_list.r",
     "varRefreshCmd": "cat(var_dic_list()) "
    }
   },
   "types_to_exclude": [
    "module",
    "function",
    "builtin_function_or_method",
    "instance",
    "_Feature"
   ],
   "window_display": false
  }
 },
 "nbformat": 4,
 "nbformat_minor": 2
}
